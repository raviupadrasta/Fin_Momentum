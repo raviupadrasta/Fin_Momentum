{
 "cells": [
  {
   "cell_type": "code",
   "execution_count": 2,
   "metadata": {},
   "outputs": [],
   "source": [
    "#!pip3 install yfinance\n",
    "#!pip3 install requests\n",
    "import yfinance as yf\n",
    "import numpy as np\n",
    "import pandas as pd\n",
    "import requests"
   ]
  },
  {
   "cell_type": "code",
   "execution_count": 20,
   "metadata": {},
   "outputs": [],
   "source": [
    "stocks = pd.read_html('https://en.wikipedia.org/wiki/NIFTY_500')[2]\n",
    "stocks_data = stocks[3]\n",
    "stocks_data = stocks_data + '.NS'\n",
    "stocks_data = stocks_data.to_list()"
   ]
  },
  {
   "cell_type": "code",
   "execution_count": 30,
   "metadata": {},
   "outputs": [
    {
     "name": "stderr",
     "output_type": "stream",
     "text": [
      "[*********************100%%**********************]  503 of 503 completed\n",
      "\n",
      "2 Failed downloads:\n",
      "['DUMMYSANOF.NS', 'SYMBOL.NS']: YFTzMissingError('$%ticker%: possibly delisted; No timezone found')\n"
     ]
    }
   ],
   "source": [
    "#download the data since 1st Jan 2020\n",
    "df = yf.download(stocks_data, start = '2020-01-01')['Close']"
   ]
  },
  {
   "cell_type": "code",
   "execution_count": 34,
   "metadata": {},
   "outputs": [
    {
     "name": "stderr",
     "output_type": "stream",
     "text": [
      "C:\\Users\\raviu\\AppData\\Local\\Temp\\ipykernel_29376\\3586646961.py:2: FutureWarning: The default fill_method='pad' in DataFrame.pct_change is deprecated and will be removed in a future version. Either fill in any non-leading NA values prior to calling pct_change or specify 'fill_method=None' to not fill NA values.\n",
      "  ret_df = df.pct_change()\n",
      "C:\\Users\\raviu\\AppData\\Local\\Temp\\ipykernel_29376\\3586646961.py:5: FutureWarning: 'M' is deprecated and will be removed in a future version, please use 'ME' instead.\n",
      "  mtl_ret = (ret_df +1).resample('M').prod()\n"
     ]
    },
    {
     "data": {
      "text/plain": [
       "Timestamp('2020-12-31 00:00:00')"
      ]
     },
     "execution_count": 34,
     "metadata": {},
     "output_type": "execute_result"
    }
   ],
   "source": [
    "#calculate daily percentage return\n",
    "ret_df = df.pct_change()\n",
    "\n",
    "#cummulate the returns on a monthly basis\n",
    "mtl_ret = (ret_df +1).resample('M').prod()\n",
    "\n",
    "#calculating last 12 month rolling return\n",
    "mtl_12 = mtl_ret.rolling(12).apply(np.prod).dropna()\n",
    "\n",
    "#filering mechanism to identify the top 10 stocks\n",
    "top_ = mtl_12.loc['2020-12-31'].nlargest(10)\n",
    "\n",
    "#extracting relevant date \n",
    "top_.name"
   ]
  },
  {
   "cell_type": "code",
   "execution_count": 39,
   "metadata": {},
   "outputs": [
    {
     "data": {
      "text/plain": [
       "Date\n",
       "2021-01-31    1.120385\n",
       "Freq: ME, dtype: float64"
      ]
     },
     "execution_count": 39,
     "metadata": {},
     "output_type": "execute_result"
    }
   ],
   "source": [
    "#performance of the portfolio for subsequent month\n",
    "mtl_ret[top_.name:][1:2]\n",
    "\n",
    "#filter only the top performers from this\n",
    "relevant_ret = mtl_ret[top_.name:][1:2][top_.index]\n",
    "relevant_ret.mean(axis=1)"
   ]
  },
  {
   "cell_type": "code",
   "execution_count": 40,
   "metadata": {},
   "outputs": [],
   "source": [
    "#function with date as parameter\n",
    "\n",
    "def top_performers(date):\n",
    "    all_ = mtl_12.loc[date]\n",
    "    top = all_.nlargest(10)\n",
    "    relevant_ret = mtl_ret[top.name:][1:2][top.index]\n",
    "    return (relevant_ret).mean(axis=1).values[0]"
   ]
  },
  {
   "cell_type": "code",
   "execution_count": 42,
   "metadata": {},
   "outputs": [],
   "source": [
    "mom_ret = []\n",
    "\n",
    "#pasing all relevant dates through the loop. momentum profits are stored in mom_ret\n",
    "for date in mtl_12.index[:-1]:\n",
    "    mom_ret.append(top_performers(date))"
   ]
  },
  {
   "cell_type": "code",
   "execution_count": 45,
   "metadata": {},
   "outputs": [
    {
     "data": {
      "text/plain": [
       "9.897382560048753"
      ]
     },
     "execution_count": 45,
     "metadata": {},
     "output_type": "execute_result"
    }
   ],
   "source": [
    "pd.Series(mom_ret).prod()"
   ]
  },
  {
   "cell_type": "code",
   "execution_count": null,
   "metadata": {},
   "outputs": [],
   "source": []
  }
 ],
 "metadata": {
  "kernelspec": {
   "display_name": "Python 3",
   "language": "python",
   "name": "python3"
  },
  "language_info": {
   "codemirror_mode": {
    "name": "ipython",
    "version": 3
   },
   "file_extension": ".py",
   "mimetype": "text/x-python",
   "name": "python",
   "nbconvert_exporter": "python",
   "pygments_lexer": "ipython3",
   "version": "3.12.5"
  }
 },
 "nbformat": 4,
 "nbformat_minor": 2
}
