{
 "cells": [
  {
   "cell_type": "code",
   "execution_count": null,
   "metadata": {},
   "outputs": [],
   "source": [
    "import yfinance as yf\n",
    "import numpy as np\n",
    "import pandas as pd\n",
    "from datetime import datetime\n",
    "from datetime import timedelta\n",
    "import requests"
   ]
  },
  {
   "cell_type": "code",
   "execution_count": null,
   "metadata": {},
   "outputs": [],
   "source": [
    "#for Nifty 500, scraping creates issues\n",
    "# For Nifty Largemidcap 250 - https://www.niftyindices.com/IndexConstituent/ind_niftylargemidcap250list.csv\n",
    "# For nifty smallcap 250 - https://www.niftyindices.com/IndexConstituent/ind_niftysmallcap250list.csv\n",
    "\n",
    "def calculate_price_change(lookback_period):\n",
    "    stocks_data = pd.read_html('https://en.wikipedia.org/wiki/NIFTY_500')[2]\n",
    "    stocks_data = (stocks_data[3] + '.NS').to_list() #For Nifty 500. For Nifty fifty can append . Symbol onto stocks data directly\n",
    "    \n",
    "    #calclating start and end dates\n",
    "    end_date = datetime.today() - timedelta(days=1)\n",
    "    start_date = end_date - timedelta(days = lookback_period)\n",
    "    \n",
    "    # Fetch historical data for all stocks\n",
    "    price_data = yf.download(stocks_data, start=start_date, end=end_date)[\"Close\"]\n",
    "    \n",
    "    #calculate price change over the lookback period\n",
    "    price_change_lookout = (price_data.iloc[-1] / price_data.iloc[0] - 1) * 100\n",
    "    \n",
    "    #calculate daily price change and standard deviation\n",
    "    price_change_daily = price_data.pct_change()\n",
    "    std_dev_daily = price_change_daily.std()\n",
    "    \n",
    "    #calculating the sharpe ratio\n",
    "    sharpe_df = pd.merge(price_change_lookout.to_frame(), std_dev_daily.to_frame(), on = 'Ticker')\n",
    "    sharpe_df.columns = ['Return','Std Dev']\n",
    "    sharpe_df['Sharpe Ratio'] = sharpe_df['Return'] / sharpe_df['Std Dev']\n",
    "\n",
    "    #printing the top 20 stocks as per the Sharpe ratio\n",
    "    return sharpe_df.nlargest(20,'Sharpe Ratio')\n"
   ]
  },
  {
   "cell_type": "code",
   "execution_count": null,
   "metadata": {},
   "outputs": [],
   "source": [
    "#calculate on the basis of 2 years\n",
    "price_change_yearly = calculate_price_change(730)\n",
    "price_change_yearly\n"
   ]
  },
  {
   "cell_type": "code",
   "execution_count": null,
   "metadata": {},
   "outputs": [],
   "source": [
    "#calculate on the basis of 1 year\n",
    "price_change_yearly = calculate_price_change(365)\n",
    "price_change_yearly\n"
   ]
  },
  {
   "cell_type": "code",
   "execution_count": null,
   "metadata": {},
   "outputs": [],
   "source": [
    "#calculate on the basis of 6 months\n",
    "price_change_6m = calculate_price_change(180)\n",
    "price_change_6m"
   ]
  },
  {
   "cell_type": "code",
   "execution_count": null,
   "metadata": {},
   "outputs": [],
   "source": [
    "#calculate on the basis of 90 days\n",
    "\n",
    "price_change_quarterly = calculate_price_change(90)\n",
    "price_change_quarterly"
   ]
  }
 ],
 "metadata": {
  "kernelspec": {
   "display_name": "Python 3",
   "language": "python",
   "name": "python3"
  },
  "language_info": {
   "codemirror_mode": {
    "name": "ipython",
    "version": 3
   },
   "file_extension": ".py",
   "mimetype": "text/x-python",
   "name": "python",
   "nbconvert_exporter": "python",
   "pygments_lexer": "ipython3",
   "version": "3.12.5"
  }
 },
 "nbformat": 4,
 "nbformat_minor": 2
}
